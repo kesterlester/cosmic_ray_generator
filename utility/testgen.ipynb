{
 "cells": [
  {
   "cell_type": "code",
   "execution_count": 5,
   "metadata": {},
   "outputs": [],
   "source": [
    "import sys\n",
    "sys.path.insert(0,'/home/leo/Documents/cosmic_ray_generator/')\n",
    "import functions\n",
    "from api.rejection_sampler import generator\n",
    "import numpy\n",
    "import matplotlib.pyplot as plt\n",
    "import pandas as pd\n",
    "from scipy import optimize\n"
   ]
  },
  {
   "attachments": {},
   "cell_type": "markdown",
   "metadata": {},
   "source": [
    "Code to make the generator generate muons. This is the right code to be used if the generator will be incorporated into a python program"
   ]
  },
  {
   "cell_type": "code",
   "execution_count": 8,
   "metadata": {},
   "outputs": [],
   "source": [
    "gen = generator(times=True,with_angles=True,detector_area=900)"
   ]
  },
  {
   "cell_type": "code",
   "execution_count": 9,
   "metadata": {},
   "outputs": [],
   "source": [
    "a=gen.create(200000)"
   ]
  },
  {
   "attachments": {},
   "cell_type": "markdown",
   "metadata": {},
   "source": [
    "Bins the generated data"
   ]
  },
  {
   "cell_type": "code",
   "execution_count": 12,
   "metadata": {},
   "outputs": [],
   "source": [
    "def binn(data,bins):\n",
    "    b=[]\n",
    "    for i in range(len(bins)-1):\n",
    "        a=[]\n",
    "        for j in data:\n",
    "            if j<=bins[i+1] and j>=bins[i]:\n",
    "                a.append(j)\n",
    "        b.append(a)\n",
    "    return b"
   ]
  },
  {
   "attachments": {},
   "cell_type": "markdown",
   "metadata": {},
   "source": [
    "Bins the data without any filtering. Uses the log of energy for the bins"
   ]
  },
  {
   "cell_type": "code",
   "execution_count": 87,
   "metadata": {},
   "outputs": [
    {
     "name": "stderr",
     "output_type": "stream",
     "text": [
      "/home/leo/miniconda3/lib/python3.8/site-packages/numpy/core/fromnumeric.py:3464: RuntimeWarning: Mean of empty slice.\n",
      "  return _methods._mean(a, axis=axis, dtype=dtype,\n",
      "/home/leo/miniconda3/lib/python3.8/site-packages/numpy/core/_methods.py:192: RuntimeWarning: invalid value encountered in scalar divide\n",
      "  ret = ret.dtype.type(ret / rcount)\n"
     ]
    }
   ],
   "source": [
    "bins=[-2+0.1*i for i in range(60)]\n",
    "binned=binn([numpy.log10(a[i][0]) for i in range(len(a))],bins)\n",
    "d=binned\n",
    "c=pd.DataFrame({'freq':[len(d[i]) for i in range(len(d))],'p_average':[numpy.log10(numpy.mean([10**d[i][j] for j in range(len(d[i]))])) for i in range(len(d))],\\\n",
    "    'p_range':[10**bins[i+1]-10**bins[i] for i in range(len(bins)-1)]})\n",
    "c=c.drop([i for i in range(len(c['freq'])) if c['freq'][i]<5])"
   ]
  },
  {
   "attachments": {},
   "cell_type": "markdown",
   "metadata": {},
   "source": [
    "Filters muons between certain angles and bins their angular distribution"
   ]
  },
  {
   "cell_type": "code",
   "execution_count": 55,
   "metadata": {},
   "outputs": [
    {
     "name": "stderr",
     "output_type": "stream",
     "text": [
      "/home/leo/miniconda3/lib/python3.8/site-packages/numpy/core/fromnumeric.py:3464: RuntimeWarning: Mean of empty slice.\n",
      "  return _methods._mean(a, axis=axis, dtype=dtype,\n",
      "/home/leo/miniconda3/lib/python3.8/site-packages/numpy/core/_methods.py:192: RuntimeWarning: invalid value encountered in scalar divide\n",
      "  ret = ret.dtype.type(ret / rcount)\n"
     ]
    }
   ],
   "source": [
    "vertical_c=[a[i][0] for i in range(len(a)) if a[i][1]<numpy.radians(34) and a[i][1]>numpy.radians(24)]\n",
    "bins=[-3+0.1*i for i in range(60)]\n",
    "d=binn([numpy.log10(vertical_c[i]) for i in range(len(vertical_c))],bins)\n",
    "c=pd.DataFrame({'freq':[len(d[i]) for i in range(len(d))],'p_average':[numpy.log10(numpy.mean([10**d[i][j] for j in range(len(d[i]))])) for i in range(len(d))],\\\n",
    "    'p_range':[10**bins[i+1]-10**bins[i] for i in range(len(bins)-1)]})\n",
    "c=c.drop([i for i in range(len(c['freq'])) if c['freq'][i]<1])"
   ]
  },
  {
   "attachments": {},
   "cell_type": "markdown",
   "metadata": {},
   "source": [
    "Finds the total number of muons remaining after filtering"
   ]
  },
  {
   "cell_type": "code",
   "execution_count": 45,
   "metadata": {},
   "outputs": [
    {
     "data": {
      "text/plain": [
       "2635"
      ]
     },
     "execution_count": 45,
     "metadata": {},
     "output_type": "execute_result"
    }
   ],
   "source": [
    "numpy.sum([len(d[i]) for i in range(len(d))])"
   ]
  },
  {
   "attachments": {},
   "cell_type": "markdown",
   "metadata": {},
   "source": [
    "Filters muons by energy and bins the remaining muons by angle"
   ]
  },
  {
   "cell_type": "code",
   "execution_count": 13,
   "metadata": {},
   "outputs": [],
   "source": [
    "angle_c=[a[i][1] for i in range(len(a)) if a[i][0]>0.6]\n",
    "bins=[numpy.deg2rad(5*i) for i in range(0,18)]\n",
    "d=binn(angle_c, bins)\n",
    "c=pd.DataFrame({'freq':[len(d[i]) for i in range(len(d))],'zenith angle':[numpy.rad2deg((bins[i]+bins[i+1])/2) for i in range(17)]})"
   ]
  },
  {
   "cell_type": "code",
   "execution_count": 14,
   "metadata": {},
   "outputs": [
    {
     "data": {
      "text/html": [
       "<div>\n",
       "<style scoped>\n",
       "    .dataframe tbody tr th:only-of-type {\n",
       "        vertical-align: middle;\n",
       "    }\n",
       "\n",
       "    .dataframe tbody tr th {\n",
       "        vertical-align: top;\n",
       "    }\n",
       "\n",
       "    .dataframe thead th {\n",
       "        text-align: right;\n",
       "    }\n",
       "</style>\n",
       "<table border=\"1\" class=\"dataframe\">\n",
       "  <thead>\n",
       "    <tr style=\"text-align: right;\">\n",
       "      <th></th>\n",
       "      <th>freq</th>\n",
       "      <th>zenith angle</th>\n",
       "    </tr>\n",
       "  </thead>\n",
       "  <tbody>\n",
       "    <tr>\n",
       "      <th>0</th>\n",
       "      <td>17966</td>\n",
       "      <td>2.5</td>\n",
       "    </tr>\n",
       "    <tr>\n",
       "      <th>1</th>\n",
       "      <td>17766</td>\n",
       "      <td>7.5</td>\n",
       "    </tr>\n",
       "    <tr>\n",
       "      <th>2</th>\n",
       "      <td>17400</td>\n",
       "      <td>12.5</td>\n",
       "    </tr>\n",
       "    <tr>\n",
       "      <th>3</th>\n",
       "      <td>16892</td>\n",
       "      <td>17.5</td>\n",
       "    </tr>\n",
       "    <tr>\n",
       "      <th>4</th>\n",
       "      <td>16117</td>\n",
       "      <td>22.5</td>\n",
       "    </tr>\n",
       "    <tr>\n",
       "      <th>5</th>\n",
       "      <td>15352</td>\n",
       "      <td>27.5</td>\n",
       "    </tr>\n",
       "    <tr>\n",
       "      <th>6</th>\n",
       "      <td>14138</td>\n",
       "      <td>32.5</td>\n",
       "    </tr>\n",
       "    <tr>\n",
       "      <th>7</th>\n",
       "      <td>12869</td>\n",
       "      <td>37.5</td>\n",
       "    </tr>\n",
       "    <tr>\n",
       "      <th>8</th>\n",
       "      <td>11663</td>\n",
       "      <td>42.5</td>\n",
       "    </tr>\n",
       "    <tr>\n",
       "      <th>9</th>\n",
       "      <td>10167</td>\n",
       "      <td>47.5</td>\n",
       "    </tr>\n",
       "    <tr>\n",
       "      <th>10</th>\n",
       "      <td>8570</td>\n",
       "      <td>52.5</td>\n",
       "    </tr>\n",
       "    <tr>\n",
       "      <th>11</th>\n",
       "      <td>7014</td>\n",
       "      <td>57.5</td>\n",
       "    </tr>\n",
       "    <tr>\n",
       "      <th>12</th>\n",
       "      <td>5568</td>\n",
       "      <td>62.5</td>\n",
       "    </tr>\n",
       "    <tr>\n",
       "      <th>13</th>\n",
       "      <td>4159</td>\n",
       "      <td>67.5</td>\n",
       "    </tr>\n",
       "    <tr>\n",
       "      <th>14</th>\n",
       "      <td>2824</td>\n",
       "      <td>72.5</td>\n",
       "    </tr>\n",
       "    <tr>\n",
       "      <th>15</th>\n",
       "      <td>1610</td>\n",
       "      <td>77.5</td>\n",
       "    </tr>\n",
       "    <tr>\n",
       "      <th>16</th>\n",
       "      <td>695</td>\n",
       "      <td>82.5</td>\n",
       "    </tr>\n",
       "  </tbody>\n",
       "</table>\n",
       "</div>"
      ],
      "text/plain": [
       "     freq  zenith angle\n",
       "0   17966           2.5\n",
       "1   17766           7.5\n",
       "2   17400          12.5\n",
       "3   16892          17.5\n",
       "4   16117          22.5\n",
       "5   15352          27.5\n",
       "6   14138          32.5\n",
       "7   12869          37.5\n",
       "8   11663          42.5\n",
       "9   10167          47.5\n",
       "10   8570          52.5\n",
       "11   7014          57.5\n",
       "12   5568          62.5\n",
       "13   4159          67.5\n",
       "14   2824          72.5\n",
       "15   1610          77.5\n",
       "16    695          82.5"
      ]
     },
     "execution_count": 14,
     "metadata": {},
     "output_type": "execute_result"
    }
   ],
   "source": [
    "c"
   ]
  },
  {
   "attachments": {},
   "cell_type": "markdown",
   "metadata": {},
   "source": [
    "Estimates a differential intensity for a specific experiment"
   ]
  },
  {
   "cell_type": "code",
   "execution_count": 89,
   "metadata": {},
   "outputs": [
    {
     "data": {
      "text/html": [
       "<div>\n",
       "<style scoped>\n",
       "    .dataframe tbody tr th:only-of-type {\n",
       "        vertical-align: middle;\n",
       "    }\n",
       "\n",
       "    .dataframe tbody tr th {\n",
       "        vertical-align: top;\n",
       "    }\n",
       "\n",
       "    .dataframe thead th {\n",
       "        text-align: right;\n",
       "    }\n",
       "</style>\n",
       "<table border=\"1\" class=\"dataframe\">\n",
       "  <thead>\n",
       "    <tr style=\"text-align: right;\">\n",
       "      <th></th>\n",
       "      <th>freq</th>\n",
       "      <th>p_average</th>\n",
       "      <th>p_range</th>\n",
       "      <th>diff_int</th>\n",
       "    </tr>\n",
       "  </thead>\n",
       "  <tbody>\n",
       "    <tr>\n",
       "      <th>43</th>\n",
       "      <td>77167</td>\n",
       "      <td>222.585221</td>\n",
       "      <td>51.662412</td>\n",
       "      <td>30.485505</td>\n",
       "    </tr>\n",
       "    <tr>\n",
       "      <th>44</th>\n",
       "      <td>48398</td>\n",
       "      <td>279.950339</td>\n",
       "      <td>65.039123</td>\n",
       "      <td>15.187602</td>\n",
       "    </tr>\n",
       "    <tr>\n",
       "      <th>45</th>\n",
       "      <td>29849</td>\n",
       "      <td>352.478114</td>\n",
       "      <td>81.879405</td>\n",
       "      <td>7.440319</td>\n",
       "    </tr>\n",
       "    <tr>\n",
       "      <th>46</th>\n",
       "      <td>18075</td>\n",
       "      <td>443.637837</td>\n",
       "      <td>103.080063</td>\n",
       "      <td>3.578822</td>\n",
       "    </tr>\n",
       "    <tr>\n",
       "      <th>47</th>\n",
       "      <td>10768</td>\n",
       "      <td>558.338033</td>\n",
       "      <td>129.770111</td>\n",
       "      <td>1.693545</td>\n",
       "    </tr>\n",
       "    <tr>\n",
       "      <th>48</th>\n",
       "      <td>6402</td>\n",
       "      <td>702.387415</td>\n",
       "      <td>163.370890</td>\n",
       "      <td>0.799793</td>\n",
       "    </tr>\n",
       "    <tr>\n",
       "      <th>49</th>\n",
       "      <td>3939</td>\n",
       "      <td>884.589496</td>\n",
       "      <td>205.671765</td>\n",
       "      <td>0.390884</td>\n",
       "    </tr>\n",
       "    <tr>\n",
       "      <th>50</th>\n",
       "      <td>2267</td>\n",
       "      <td>1110.268403</td>\n",
       "      <td>258.925412</td>\n",
       "      <td>0.178695</td>\n",
       "    </tr>\n",
       "    <tr>\n",
       "      <th>51</th>\n",
       "      <td>1366</td>\n",
       "      <td>1398.370317</td>\n",
       "      <td>325.967781</td>\n",
       "      <td>0.085529</td>\n",
       "    </tr>\n",
       "    <tr>\n",
       "      <th>52</th>\n",
       "      <td>756</td>\n",
       "      <td>1761.681074</td>\n",
       "      <td>410.369123</td>\n",
       "      <td>0.037600</td>\n",
       "    </tr>\n",
       "    <tr>\n",
       "      <th>53</th>\n",
       "      <td>444</td>\n",
       "      <td>2222.836551</td>\n",
       "      <td>516.624117</td>\n",
       "      <td>0.017541</td>\n",
       "    </tr>\n",
       "    <tr>\n",
       "      <th>54</th>\n",
       "      <td>232</td>\n",
       "      <td>2805.921490</td>\n",
       "      <td>650.391229</td>\n",
       "      <td>0.007280</td>\n",
       "    </tr>\n",
       "    <tr>\n",
       "      <th>55</th>\n",
       "      <td>156</td>\n",
       "      <td>3516.693581</td>\n",
       "      <td>818.794045</td>\n",
       "      <td>0.003889</td>\n",
       "    </tr>\n",
       "    <tr>\n",
       "      <th>56</th>\n",
       "      <td>92</td>\n",
       "      <td>4469.627784</td>\n",
       "      <td>1030.800631</td>\n",
       "      <td>0.001822</td>\n",
       "    </tr>\n",
       "    <tr>\n",
       "      <th>57</th>\n",
       "      <td>52</td>\n",
       "      <td>5509.966456</td>\n",
       "      <td>1297.701109</td>\n",
       "      <td>0.000818</td>\n",
       "    </tr>\n",
       "    <tr>\n",
       "      <th>58</th>\n",
       "      <td>21</td>\n",
       "      <td>6966.667257</td>\n",
       "      <td>1633.708902</td>\n",
       "      <td>0.000262</td>\n",
       "    </tr>\n",
       "  </tbody>\n",
       "</table>\n",
       "</div>"
      ],
      "text/plain": [
       "     freq    p_average      p_range   diff_int\n",
       "43  77167   222.585221    51.662412  30.485505\n",
       "44  48398   279.950339    65.039123  15.187602\n",
       "45  29849   352.478114    81.879405   7.440319\n",
       "46  18075   443.637837   103.080063   3.578822\n",
       "47  10768   558.338033   129.770111   1.693545\n",
       "48   6402   702.387415   163.370890   0.799793\n",
       "49   3939   884.589496   205.671765   0.390884\n",
       "50   2267  1110.268403   258.925412   0.178695\n",
       "51   1366  1398.370317   325.967781   0.085529\n",
       "52    756  1761.681074   410.369123   0.037600\n",
       "53    444  2222.836551   516.624117   0.017541\n",
       "54    232  2805.921490   650.391229   0.007280\n",
       "55    156  3516.693581   818.794045   0.003889\n",
       "56     92  4469.627784  1030.800631   0.001822\n",
       "57     52  5509.966456  1297.701109   0.000818\n",
       "58     21  6966.667257  1633.708902   0.000262"
      ]
     },
     "execution_count": 89,
     "metadata": {},
     "output_type": "execute_result"
    }
   ],
   "source": [
    "c['diff_int']=c['freq']/(c['p_range']*(2.56*10**4*4*numpy.pi*(1-numpy.cos(numpy.deg2rad(1)))))\n",
    "c['p_average']=10**c['p_average']\n",
    "c"
   ]
  },
  {
   "attachments": {},
   "cell_type": "markdown",
   "metadata": {},
   "source": [
    "Generates a plot of the data generated"
   ]
  },
  {
   "cell_type": "code",
   "execution_count": null,
   "metadata": {},
   "outputs": [],
   "source": [
    "plt.scatter(c['p_average'],c['diff_int']*(c['p_average'])**3, marker='x')\n",
    "plt.yscale('log')\n",
    "plt.xscale('log')\n",
    "plt.show()"
   ]
  },
  {
   "attachments": {},
   "cell_type": "markdown",
   "metadata": {},
   "source": [
    "Saves the generator output so it can be used by other programs"
   ]
  },
  {
   "cell_type": "code",
   "execution_count": 15,
   "metadata": {},
   "outputs": [
    {
     "data": {
      "text/html": [
       "<div>\n",
       "<style scoped>\n",
       "    .dataframe tbody tr th:only-of-type {\n",
       "        vertical-align: middle;\n",
       "    }\n",
       "\n",
       "    .dataframe tbody tr th {\n",
       "        vertical-align: top;\n",
       "    }\n",
       "\n",
       "    .dataframe thead th {\n",
       "        text-align: right;\n",
       "    }\n",
       "</style>\n",
       "<table border=\"1\" class=\"dataframe\">\n",
       "  <thead>\n",
       "    <tr style=\"text-align: right;\">\n",
       "      <th></th>\n",
       "      <th>freq</th>\n",
       "      <th>zenith angle</th>\n",
       "    </tr>\n",
       "  </thead>\n",
       "  <tbody>\n",
       "    <tr>\n",
       "      <th>0</th>\n",
       "      <td>17966</td>\n",
       "      <td>2.5</td>\n",
       "    </tr>\n",
       "    <tr>\n",
       "      <th>1</th>\n",
       "      <td>17766</td>\n",
       "      <td>7.5</td>\n",
       "    </tr>\n",
       "    <tr>\n",
       "      <th>2</th>\n",
       "      <td>17400</td>\n",
       "      <td>12.5</td>\n",
       "    </tr>\n",
       "    <tr>\n",
       "      <th>3</th>\n",
       "      <td>16892</td>\n",
       "      <td>17.5</td>\n",
       "    </tr>\n",
       "    <tr>\n",
       "      <th>4</th>\n",
       "      <td>16117</td>\n",
       "      <td>22.5</td>\n",
       "    </tr>\n",
       "    <tr>\n",
       "      <th>5</th>\n",
       "      <td>15352</td>\n",
       "      <td>27.5</td>\n",
       "    </tr>\n",
       "    <tr>\n",
       "      <th>6</th>\n",
       "      <td>14138</td>\n",
       "      <td>32.5</td>\n",
       "    </tr>\n",
       "    <tr>\n",
       "      <th>7</th>\n",
       "      <td>12869</td>\n",
       "      <td>37.5</td>\n",
       "    </tr>\n",
       "    <tr>\n",
       "      <th>8</th>\n",
       "      <td>11663</td>\n",
       "      <td>42.5</td>\n",
       "    </tr>\n",
       "    <tr>\n",
       "      <th>9</th>\n",
       "      <td>10167</td>\n",
       "      <td>47.5</td>\n",
       "    </tr>\n",
       "    <tr>\n",
       "      <th>10</th>\n",
       "      <td>8570</td>\n",
       "      <td>52.5</td>\n",
       "    </tr>\n",
       "    <tr>\n",
       "      <th>11</th>\n",
       "      <td>7014</td>\n",
       "      <td>57.5</td>\n",
       "    </tr>\n",
       "    <tr>\n",
       "      <th>12</th>\n",
       "      <td>5568</td>\n",
       "      <td>62.5</td>\n",
       "    </tr>\n",
       "    <tr>\n",
       "      <th>13</th>\n",
       "      <td>4159</td>\n",
       "      <td>67.5</td>\n",
       "    </tr>\n",
       "    <tr>\n",
       "      <th>14</th>\n",
       "      <td>2824</td>\n",
       "      <td>72.5</td>\n",
       "    </tr>\n",
       "    <tr>\n",
       "      <th>15</th>\n",
       "      <td>1610</td>\n",
       "      <td>77.5</td>\n",
       "    </tr>\n",
       "    <tr>\n",
       "      <th>16</th>\n",
       "      <td>695</td>\n",
       "      <td>82.5</td>\n",
       "    </tr>\n",
       "  </tbody>\n",
       "</table>\n",
       "</div>"
      ],
      "text/plain": [
       "     freq  zenith angle\n",
       "0   17966           2.5\n",
       "1   17766           7.5\n",
       "2   17400          12.5\n",
       "3   16892          17.5\n",
       "4   16117          22.5\n",
       "5   15352          27.5\n",
       "6   14138          32.5\n",
       "7   12869          37.5\n",
       "8   11663          42.5\n",
       "9   10167          47.5\n",
       "10   8570          52.5\n",
       "11   7014          57.5\n",
       "12   5568          62.5\n",
       "13   4159          67.5\n",
       "14   2824          72.5\n",
       "15   1610          77.5\n",
       "16    695          82.5"
      ]
     },
     "execution_count": 15,
     "metadata": {},
     "output_type": "execute_result"
    }
   ],
   "source": [
    "with open('gen_data_angle.npy','wb') as f:\n",
    "    numpy.save(f,c)\n",
    "c"
   ]
  },
  {
   "attachments": {},
   "cell_type": "markdown",
   "metadata": {},
   "source": [
    "Code for a least squares fit of a sec curve"
   ]
  },
  {
   "cell_type": "code",
   "execution_count": 48,
   "metadata": {},
   "outputs": [],
   "source": [
    "def exp(x, params):\n",
    "    a=params\n",
    "    return a/(numpy.cos(numpy.deg2rad(x)))\n",
    "def res(params,x,y):\n",
    "    return y-exp(x,params)\n",
    "def fit(data):\n",
    "    popt=optimize.leastsq(res,x0=numpy.array([100]),args=(data[0],data[1]))\n",
    "    print(popt)\n",
    "    return(popt[0])"
   ]
  },
  {
   "cell_type": "code",
   "execution_count": null,
   "metadata": {},
   "outputs": [],
   "source": [
    "x=numpy.linspace(0,80,10000)\n",
    "plt.scatter(c['zenith angle'],c['freq'], marker='x', label='generator data', color='black')\n",
    "# p=fit([c['zenith angle'],c['freq']])\n",
    "# p1=p[0]\n",
    "# p2=p[1]\n",
    "# y=p1*numpy.cos(numpy.deg2rad(x))**p2\n",
    "# plt.plot(x, y, color='m', label='cos^2.19')\n",
    "# plt.plot(x,p1*numpy.cos(numpy.deg2rad(x))**2, label='cos^2', color='r')\n",
    "p=fit([c['zenith angle'],c['freq']])\n",
    "plt.plot(x,500/(numpy.cos(numpy.deg2rad(x))), label='sec')\n",
    "#plt.plot(x, 1/numpy.cos(numpy.deg2rad(x)))\n",
    "plt.legend()"
   ]
  }
 ],
 "metadata": {
  "kernelspec": {
   "display_name": "Python 3",
   "language": "python",
   "name": "python3"
  },
  "language_info": {
   "codemirror_mode": {
    "name": "ipython",
    "version": 3
   },
   "file_extension": ".py",
   "mimetype": "text/x-python",
   "name": "python",
   "nbconvert_exporter": "python",
   "pygments_lexer": "ipython3",
   "version": "3.8.16"
  },
  "orig_nbformat": 4
 },
 "nbformat": 4,
 "nbformat_minor": 2
}
