{
 "cells": [
  {
   "cell_type": "code",
   "execution_count": 1,
   "metadata": {},
   "outputs": [],
   "source": [
    "import sys\n",
    "sys.path.insert(0,'/home/leo/Documents/cosmic_ray_generator/')\n",
    "import functions\n",
    "from rejection_sampler import generator\n",
    "import numpy\n",
    "import matplotlib.pyplot as plt\n",
    "import pandas as pd\n",
    "from scipy import optimize\n"
   ]
  },
  {
   "cell_type": "code",
   "execution_count": 77,
   "metadata": {},
   "outputs": [],
   "source": [
    "gen = generator(times=True,with_angles=True,detector_area=900,llim=200,ulim=10000)"
   ]
  },
  {
   "cell_type": "code",
   "execution_count": 78,
   "metadata": {},
   "outputs": [
    {
     "name": "stderr",
     "output_type": "stream",
     "text": [
      "/home/leo/Documents/cosmic_ray_generator/functions.py:13: RuntimeWarning: invalid value encountered in power\n",
      "  return ((lambda_N*np.cos(theta))/X_0)**p_1 * ((E_mu)/(E_mu + alphax0/np.cos(theta)))**(p_1 + gamma + 1) * spec.gamma(p_1 + 1)\n"
     ]
    }
   ],
   "source": [
    "a=gen.create(200000)"
   ]
  },
  {
   "cell_type": "code",
   "execution_count": 4,
   "metadata": {},
   "outputs": [
    {
     "data": {
      "text/plain": [
       "array([[1.20958246e+00, 5.72560528e-01, 2.20407326e-03],\n",
       "       [6.62606403e+00, 8.19731590e-01, 3.70030062e-03],\n",
       "       [5.66682824e+00, 5.44141500e-01, 2.95527612e-02],\n",
       "       ...,\n",
       "       [2.83839628e+00, 9.01114218e-01, 4.08910987e+03],\n",
       "       [8.08128366e+00, 8.45640042e-01, 4.08911074e+03],\n",
       "       [8.80145852e-01, 3.21386874e-01, 4.08912166e+03]])"
      ]
     },
     "execution_count": 4,
     "metadata": {},
     "output_type": "execute_result"
    }
   ],
   "source": [
    "a"
   ]
  },
  {
   "cell_type": "code",
   "execution_count": 79,
   "metadata": {},
   "outputs": [
    {
     "data": {
      "text/plain": [
       "360.9388198644088"
      ]
     },
     "execution_count": 79,
     "metadata": {},
     "output_type": "execute_result"
    }
   ],
   "source": [
    "numpy.mean([a[i][0] for i in range(len(a))])"
   ]
  },
  {
   "cell_type": "code",
   "execution_count": 80,
   "metadata": {},
   "outputs": [],
   "source": [
    "def binn(data,bins):\n",
    "    b=[]\n",
    "    for i in range(len(bins)-1):\n",
    "        a=[]\n",
    "        for j in data:\n",
    "            if j<=bins[i+1] and j>=bins[i]:\n",
    "                a.append(j)\n",
    "        b.append(a)\n",
    "    return b"
   ]
  },
  {
   "cell_type": "code",
   "execution_count": 59,
   "metadata": {},
   "outputs": [],
   "source": [
    "b=numpy.histogram([numpy.log10(a[i][0]) for i in range(len(a)) if a[i][1]<0.09966],bins=[0.1*i for i in range(60)])"
   ]
  },
  {
   "cell_type": "code",
   "execution_count": 86,
   "metadata": {},
   "outputs": [],
   "source": [
    "bins=[-2+0.1*i for i in range(60)]\n",
    "binned=binn([numpy.log10(a[i][0]) for i in range(len(a))],bins)\n",
    "d=binned"
   ]
  },
  {
   "cell_type": "code",
   "execution_count": 87,
   "metadata": {},
   "outputs": [
    {
     "name": "stderr",
     "output_type": "stream",
     "text": [
      "/home/leo/miniconda3/lib/python3.8/site-packages/numpy/core/fromnumeric.py:3464: RuntimeWarning: Mean of empty slice.\n",
      "  return _methods._mean(a, axis=axis, dtype=dtype,\n",
      "/home/leo/miniconda3/lib/python3.8/site-packages/numpy/core/_methods.py:192: RuntimeWarning: invalid value encountered in scalar divide\n",
      "  ret = ret.dtype.type(ret / rcount)\n"
     ]
    }
   ],
   "source": [
    "c=pd.DataFrame({'freq':[len(d[i]) for i in range(len(d))],'p_average':[numpy.log10(numpy.mean([10**d[i][j] for j in range(len(d[i]))])) for i in range(len(d))],\\\n",
    "    'p_range':[10**bins[i+1]-10**bins[i] for i in range(len(bins)-1)]})\n",
    "c=c.drop([i for i in range(len(c['freq'])) if c['freq'][i]<5])"
   ]
  },
  {
   "cell_type": "code",
   "execution_count": 55,
   "metadata": {},
   "outputs": [
    {
     "name": "stderr",
     "output_type": "stream",
     "text": [
      "/home/leo/miniconda3/lib/python3.8/site-packages/numpy/core/fromnumeric.py:3464: RuntimeWarning: Mean of empty slice.\n",
      "  return _methods._mean(a, axis=axis, dtype=dtype,\n",
      "/home/leo/miniconda3/lib/python3.8/site-packages/numpy/core/_methods.py:192: RuntimeWarning: invalid value encountered in scalar divide\n",
      "  ret = ret.dtype.type(ret / rcount)\n"
     ]
    }
   ],
   "source": [
    "vertical_c=[a[i][0] for i in range(len(a)) if a[i][1]<numpy.radians(34) and a[i][1]>numpy.radians(24)]\n",
    "bins=[-3+0.1*i for i in range(60)]\n",
    "d=binn([numpy.log10(vertical_c[i]) for i in range(len(vertical_c))],bins)\n",
    "c=pd.DataFrame({'freq':[len(d[i]) for i in range(len(d))],'p_average':[numpy.log10(numpy.mean([10**d[i][j] for j in range(len(d[i]))])) for i in range(len(d))],\\\n",
    "    'p_range':[10**bins[i+1]-10**bins[i] for i in range(len(bins)-1)]})\n",
    "c=c.drop([i for i in range(len(c['freq'])) if c['freq'][i]<1])"
   ]
  },
  {
   "cell_type": "code",
   "execution_count": 45,
   "metadata": {},
   "outputs": [
    {
     "data": {
      "text/plain": [
       "2635"
      ]
     },
     "execution_count": 45,
     "metadata": {},
     "output_type": "execute_result"
    }
   ],
   "source": [
    "numpy.sum([len(d[i]) for i in range(len(d))])"
   ]
  },
  {
   "cell_type": "code",
   "execution_count": 93,
   "metadata": {},
   "outputs": [],
   "source": [
    "angle_c=[a[i][1] for i in range(len(a)) if a[i][0]>540]\n",
    "bins=[numpy.deg2rad(5*i) for i in range(0,18)]\n",
    "d=binn(angle_c, bins)\n",
    "c=pd.DataFrame({'freq':[len(d[i]) for i in range(len(d))],'zenith angle':[numpy.rad2deg((bins[i]+bins[i+1])/2) for i in range(17)]})"
   ]
  },
  {
   "cell_type": "code",
   "execution_count": 91,
   "metadata": {},
   "outputs": [
    {
     "data": {
      "text/html": [
       "<div>\n",
       "<style scoped>\n",
       "    .dataframe tbody tr th:only-of-type {\n",
       "        vertical-align: middle;\n",
       "    }\n",
       "\n",
       "    .dataframe tbody tr th {\n",
       "        vertical-align: top;\n",
       "    }\n",
       "\n",
       "    .dataframe thead th {\n",
       "        text-align: right;\n",
       "    }\n",
       "</style>\n",
       "<table border=\"1\" class=\"dataframe\">\n",
       "  <thead>\n",
       "    <tr style=\"text-align: right;\">\n",
       "      <th></th>\n",
       "      <th>freq</th>\n",
       "      <th>zenith angle</th>\n",
       "    </tr>\n",
       "  </thead>\n",
       "  <tbody>\n",
       "    <tr>\n",
       "      <th>0</th>\n",
       "      <td>4729</td>\n",
       "      <td>2.5</td>\n",
       "    </tr>\n",
       "    <tr>\n",
       "      <th>1</th>\n",
       "      <td>4868</td>\n",
       "      <td>7.5</td>\n",
       "    </tr>\n",
       "    <tr>\n",
       "      <th>2</th>\n",
       "      <td>4824</td>\n",
       "      <td>12.5</td>\n",
       "    </tr>\n",
       "    <tr>\n",
       "      <th>3</th>\n",
       "      <td>4950</td>\n",
       "      <td>17.5</td>\n",
       "    </tr>\n",
       "    <tr>\n",
       "      <th>4</th>\n",
       "      <td>4935</td>\n",
       "      <td>22.5</td>\n",
       "    </tr>\n",
       "    <tr>\n",
       "      <th>5</th>\n",
       "      <td>5026</td>\n",
       "      <td>27.5</td>\n",
       "    </tr>\n",
       "    <tr>\n",
       "      <th>6</th>\n",
       "      <td>5372</td>\n",
       "      <td>32.5</td>\n",
       "    </tr>\n",
       "    <tr>\n",
       "      <th>7</th>\n",
       "      <td>5535</td>\n",
       "      <td>37.5</td>\n",
       "    </tr>\n",
       "    <tr>\n",
       "      <th>8</th>\n",
       "      <td>5831</td>\n",
       "      <td>42.5</td>\n",
       "    </tr>\n",
       "    <tr>\n",
       "      <th>9</th>\n",
       "      <td>6197</td>\n",
       "      <td>47.5</td>\n",
       "    </tr>\n",
       "    <tr>\n",
       "      <th>10</th>\n",
       "      <td>6529</td>\n",
       "      <td>52.5</td>\n",
       "    </tr>\n",
       "    <tr>\n",
       "      <th>11</th>\n",
       "      <td>7197</td>\n",
       "      <td>57.5</td>\n",
       "    </tr>\n",
       "    <tr>\n",
       "      <th>12</th>\n",
       "      <td>7541</td>\n",
       "      <td>62.5</td>\n",
       "    </tr>\n",
       "    <tr>\n",
       "      <th>13</th>\n",
       "      <td>8550</td>\n",
       "      <td>67.5</td>\n",
       "    </tr>\n",
       "    <tr>\n",
       "      <th>14</th>\n",
       "      <td>9243</td>\n",
       "      <td>72.5</td>\n",
       "    </tr>\n",
       "    <tr>\n",
       "      <th>15</th>\n",
       "      <td>10702</td>\n",
       "      <td>77.5</td>\n",
       "    </tr>\n",
       "    <tr>\n",
       "      <th>16</th>\n",
       "      <td>12169</td>\n",
       "      <td>82.5</td>\n",
       "    </tr>\n",
       "  </tbody>\n",
       "</table>\n",
       "</div>"
      ],
      "text/plain": [
       "     freq  zenith angle\n",
       "0    4729           2.5\n",
       "1    4868           7.5\n",
       "2    4824          12.5\n",
       "3    4950          17.5\n",
       "4    4935          22.5\n",
       "5    5026          27.5\n",
       "6    5372          32.5\n",
       "7    5535          37.5\n",
       "8    5831          42.5\n",
       "9    6197          47.5\n",
       "10   6529          52.5\n",
       "11   7197          57.5\n",
       "12   7541          62.5\n",
       "13   8550          67.5\n",
       "14   9243          72.5\n",
       "15  10702          77.5\n",
       "16  12169          82.5"
      ]
     },
     "execution_count": 91,
     "metadata": {},
     "output_type": "execute_result"
    }
   ],
   "source": [
    "c"
   ]
  },
  {
   "cell_type": "code",
   "execution_count": 63,
   "metadata": {},
   "outputs": [
    {
     "ename": "KeyError",
     "evalue": "0",
     "output_type": "error",
     "traceback": [
      "\u001b[0;31m---------------------------------------------------------------------------\u001b[0m",
      "\u001b[0;31mKeyError\u001b[0m                                  Traceback (most recent call last)",
      "File \u001b[0;32m~/.local/lib/python3.8/site-packages/pandas/core/indexes/base.py:3802\u001b[0m, in \u001b[0;36mIndex.get_loc\u001b[0;34m(self, key, method, tolerance)\u001b[0m\n\u001b[1;32m   3801\u001b[0m \u001b[39mtry\u001b[39;00m:\n\u001b[0;32m-> 3802\u001b[0m     \u001b[39mreturn\u001b[39;00m \u001b[39mself\u001b[39;49m\u001b[39m.\u001b[39;49m_engine\u001b[39m.\u001b[39;49mget_loc(casted_key)\n\u001b[1;32m   3803\u001b[0m \u001b[39mexcept\u001b[39;00m \u001b[39mKeyError\u001b[39;00m \u001b[39mas\u001b[39;00m err:\n",
      "File \u001b[0;32m~/.local/lib/python3.8/site-packages/pandas/_libs/index.pyx:138\u001b[0m, in \u001b[0;36mpandas._libs.index.IndexEngine.get_loc\u001b[0;34m()\u001b[0m\n",
      "File \u001b[0;32m~/.local/lib/python3.8/site-packages/pandas/_libs/index.pyx:165\u001b[0m, in \u001b[0;36mpandas._libs.index.IndexEngine.get_loc\u001b[0;34m()\u001b[0m\n",
      "File \u001b[0;32mpandas/_libs/hashtable_class_helper.pxi:2263\u001b[0m, in \u001b[0;36mpandas._libs.hashtable.Int64HashTable.get_item\u001b[0;34m()\u001b[0m\n",
      "File \u001b[0;32mpandas/_libs/hashtable_class_helper.pxi:2273\u001b[0m, in \u001b[0;36mpandas._libs.hashtable.Int64HashTable.get_item\u001b[0;34m()\u001b[0m\n",
      "\u001b[0;31mKeyError\u001b[0m: 0",
      "\nThe above exception was the direct cause of the following exception:\n",
      "\u001b[0;31mKeyError\u001b[0m                                  Traceback (most recent call last)",
      "Cell \u001b[0;32mIn[63], line 2\u001b[0m\n\u001b[1;32m      1\u001b[0m c[\u001b[39m'\u001b[39m\u001b[39mdiff_int\u001b[39m\u001b[39m'\u001b[39m]\u001b[39m=\u001b[39mc[\u001b[39m'\u001b[39m\u001b[39mfreq\u001b[39m\u001b[39m'\u001b[39m]\u001b[39m/\u001b[39mc[\u001b[39m'\u001b[39m\u001b[39mp_range\u001b[39m\u001b[39m'\u001b[39m]\n\u001b[0;32m----> 2\u001b[0m c\u001b[39m=\u001b[39mc\u001b[39m.\u001b[39mdrop([i \u001b[39mfor\u001b[39;00m i \u001b[39min\u001b[39;00m \u001b[39mrange\u001b[39m(\u001b[39mlen\u001b[39m(c[\u001b[39m'\u001b[39m\u001b[39mfreq\u001b[39m\u001b[39m'\u001b[39m])) \u001b[39mif\u001b[39;00m c[\u001b[39m'\u001b[39m\u001b[39mfreq\u001b[39m\u001b[39m'\u001b[39m][i]\u001b[39m<\u001b[39m\u001b[39m=\u001b[39m\u001b[39m1\u001b[39m])\n\u001b[1;32m      3\u001b[0m c\n",
      "Cell \u001b[0;32mIn[63], line 2\u001b[0m, in \u001b[0;36m<listcomp>\u001b[0;34m(.0)\u001b[0m\n\u001b[1;32m      1\u001b[0m c[\u001b[39m'\u001b[39m\u001b[39mdiff_int\u001b[39m\u001b[39m'\u001b[39m]\u001b[39m=\u001b[39mc[\u001b[39m'\u001b[39m\u001b[39mfreq\u001b[39m\u001b[39m'\u001b[39m]\u001b[39m/\u001b[39mc[\u001b[39m'\u001b[39m\u001b[39mp_range\u001b[39m\u001b[39m'\u001b[39m]\n\u001b[0;32m----> 2\u001b[0m c\u001b[39m=\u001b[39mc\u001b[39m.\u001b[39mdrop([i \u001b[39mfor\u001b[39;00m i \u001b[39min\u001b[39;00m \u001b[39mrange\u001b[39m(\u001b[39mlen\u001b[39m(c[\u001b[39m'\u001b[39m\u001b[39mfreq\u001b[39m\u001b[39m'\u001b[39m])) \u001b[39mif\u001b[39;00m c[\u001b[39m'\u001b[39;49m\u001b[39mfreq\u001b[39;49m\u001b[39m'\u001b[39;49m][i]\u001b[39m<\u001b[39m\u001b[39m=\u001b[39m\u001b[39m1\u001b[39m])\n\u001b[1;32m      3\u001b[0m c\n",
      "File \u001b[0;32m~/.local/lib/python3.8/site-packages/pandas/core/series.py:981\u001b[0m, in \u001b[0;36mSeries.__getitem__\u001b[0;34m(self, key)\u001b[0m\n\u001b[1;32m    978\u001b[0m     \u001b[39mreturn\u001b[39;00m \u001b[39mself\u001b[39m\u001b[39m.\u001b[39m_values[key]\n\u001b[1;32m    980\u001b[0m \u001b[39melif\u001b[39;00m key_is_scalar:\n\u001b[0;32m--> 981\u001b[0m     \u001b[39mreturn\u001b[39;00m \u001b[39mself\u001b[39;49m\u001b[39m.\u001b[39;49m_get_value(key)\n\u001b[1;32m    983\u001b[0m \u001b[39mif\u001b[39;00m is_hashable(key):\n\u001b[1;32m    984\u001b[0m     \u001b[39m# Otherwise index.get_value will raise InvalidIndexError\u001b[39;00m\n\u001b[1;32m    985\u001b[0m     \u001b[39mtry\u001b[39;00m:\n\u001b[1;32m    986\u001b[0m         \u001b[39m# For labels that don't resolve as scalars like tuples and frozensets\u001b[39;00m\n",
      "File \u001b[0;32m~/.local/lib/python3.8/site-packages/pandas/core/series.py:1089\u001b[0m, in \u001b[0;36mSeries._get_value\u001b[0;34m(self, label, takeable)\u001b[0m\n\u001b[1;32m   1086\u001b[0m     \u001b[39mreturn\u001b[39;00m \u001b[39mself\u001b[39m\u001b[39m.\u001b[39m_values[label]\n\u001b[1;32m   1088\u001b[0m \u001b[39m# Similar to Index.get_value, but we do not fall back to positional\u001b[39;00m\n\u001b[0;32m-> 1089\u001b[0m loc \u001b[39m=\u001b[39m \u001b[39mself\u001b[39;49m\u001b[39m.\u001b[39;49mindex\u001b[39m.\u001b[39;49mget_loc(label)\n\u001b[1;32m   1090\u001b[0m \u001b[39mreturn\u001b[39;00m \u001b[39mself\u001b[39m\u001b[39m.\u001b[39mindex\u001b[39m.\u001b[39m_get_values_for_loc(\u001b[39mself\u001b[39m, loc, label)\n",
      "File \u001b[0;32m~/.local/lib/python3.8/site-packages/pandas/core/indexes/base.py:3804\u001b[0m, in \u001b[0;36mIndex.get_loc\u001b[0;34m(self, key, method, tolerance)\u001b[0m\n\u001b[1;32m   3802\u001b[0m     \u001b[39mreturn\u001b[39;00m \u001b[39mself\u001b[39m\u001b[39m.\u001b[39m_engine\u001b[39m.\u001b[39mget_loc(casted_key)\n\u001b[1;32m   3803\u001b[0m \u001b[39mexcept\u001b[39;00m \u001b[39mKeyError\u001b[39;00m \u001b[39mas\u001b[39;00m err:\n\u001b[0;32m-> 3804\u001b[0m     \u001b[39mraise\u001b[39;00m \u001b[39mKeyError\u001b[39;00m(key) \u001b[39mfrom\u001b[39;00m \u001b[39merr\u001b[39;00m\n\u001b[1;32m   3805\u001b[0m \u001b[39mexcept\u001b[39;00m \u001b[39mTypeError\u001b[39;00m:\n\u001b[1;32m   3806\u001b[0m     \u001b[39m# If we have a listlike key, _check_indexing_error will raise\u001b[39;00m\n\u001b[1;32m   3807\u001b[0m     \u001b[39m#  InvalidIndexError. Otherwise we fall through and re-raise\u001b[39;00m\n\u001b[1;32m   3808\u001b[0m     \u001b[39m#  the TypeError.\u001b[39;00m\n\u001b[1;32m   3809\u001b[0m     \u001b[39mself\u001b[39m\u001b[39m.\u001b[39m_check_indexing_error(key)\n",
      "\u001b[0;31mKeyError\u001b[0m: 0"
     ]
    }
   ],
   "source": [
    "c['diff_int']=c['freq']/c['p_range']\n",
    "c=c.drop([i for i in range(len(c['freq'])) if c['freq'][i]<=1])\n",
    "c"
   ]
  },
  {
   "cell_type": "code",
   "execution_count": 89,
   "metadata": {},
   "outputs": [
    {
     "data": {
      "text/html": [
       "<div>\n",
       "<style scoped>\n",
       "    .dataframe tbody tr th:only-of-type {\n",
       "        vertical-align: middle;\n",
       "    }\n",
       "\n",
       "    .dataframe tbody tr th {\n",
       "        vertical-align: top;\n",
       "    }\n",
       "\n",
       "    .dataframe thead th {\n",
       "        text-align: right;\n",
       "    }\n",
       "</style>\n",
       "<table border=\"1\" class=\"dataframe\">\n",
       "  <thead>\n",
       "    <tr style=\"text-align: right;\">\n",
       "      <th></th>\n",
       "      <th>freq</th>\n",
       "      <th>p_average</th>\n",
       "      <th>p_range</th>\n",
       "      <th>diff_int</th>\n",
       "    </tr>\n",
       "  </thead>\n",
       "  <tbody>\n",
       "    <tr>\n",
       "      <th>43</th>\n",
       "      <td>77167</td>\n",
       "      <td>222.585221</td>\n",
       "      <td>51.662412</td>\n",
       "      <td>30.485505</td>\n",
       "    </tr>\n",
       "    <tr>\n",
       "      <th>44</th>\n",
       "      <td>48398</td>\n",
       "      <td>279.950339</td>\n",
       "      <td>65.039123</td>\n",
       "      <td>15.187602</td>\n",
       "    </tr>\n",
       "    <tr>\n",
       "      <th>45</th>\n",
       "      <td>29849</td>\n",
       "      <td>352.478114</td>\n",
       "      <td>81.879405</td>\n",
       "      <td>7.440319</td>\n",
       "    </tr>\n",
       "    <tr>\n",
       "      <th>46</th>\n",
       "      <td>18075</td>\n",
       "      <td>443.637837</td>\n",
       "      <td>103.080063</td>\n",
       "      <td>3.578822</td>\n",
       "    </tr>\n",
       "    <tr>\n",
       "      <th>47</th>\n",
       "      <td>10768</td>\n",
       "      <td>558.338033</td>\n",
       "      <td>129.770111</td>\n",
       "      <td>1.693545</td>\n",
       "    </tr>\n",
       "    <tr>\n",
       "      <th>48</th>\n",
       "      <td>6402</td>\n",
       "      <td>702.387415</td>\n",
       "      <td>163.370890</td>\n",
       "      <td>0.799793</td>\n",
       "    </tr>\n",
       "    <tr>\n",
       "      <th>49</th>\n",
       "      <td>3939</td>\n",
       "      <td>884.589496</td>\n",
       "      <td>205.671765</td>\n",
       "      <td>0.390884</td>\n",
       "    </tr>\n",
       "    <tr>\n",
       "      <th>50</th>\n",
       "      <td>2267</td>\n",
       "      <td>1110.268403</td>\n",
       "      <td>258.925412</td>\n",
       "      <td>0.178695</td>\n",
       "    </tr>\n",
       "    <tr>\n",
       "      <th>51</th>\n",
       "      <td>1366</td>\n",
       "      <td>1398.370317</td>\n",
       "      <td>325.967781</td>\n",
       "      <td>0.085529</td>\n",
       "    </tr>\n",
       "    <tr>\n",
       "      <th>52</th>\n",
       "      <td>756</td>\n",
       "      <td>1761.681074</td>\n",
       "      <td>410.369123</td>\n",
       "      <td>0.037600</td>\n",
       "    </tr>\n",
       "    <tr>\n",
       "      <th>53</th>\n",
       "      <td>444</td>\n",
       "      <td>2222.836551</td>\n",
       "      <td>516.624117</td>\n",
       "      <td>0.017541</td>\n",
       "    </tr>\n",
       "    <tr>\n",
       "      <th>54</th>\n",
       "      <td>232</td>\n",
       "      <td>2805.921490</td>\n",
       "      <td>650.391229</td>\n",
       "      <td>0.007280</td>\n",
       "    </tr>\n",
       "    <tr>\n",
       "      <th>55</th>\n",
       "      <td>156</td>\n",
       "      <td>3516.693581</td>\n",
       "      <td>818.794045</td>\n",
       "      <td>0.003889</td>\n",
       "    </tr>\n",
       "    <tr>\n",
       "      <th>56</th>\n",
       "      <td>92</td>\n",
       "      <td>4469.627784</td>\n",
       "      <td>1030.800631</td>\n",
       "      <td>0.001822</td>\n",
       "    </tr>\n",
       "    <tr>\n",
       "      <th>57</th>\n",
       "      <td>52</td>\n",
       "      <td>5509.966456</td>\n",
       "      <td>1297.701109</td>\n",
       "      <td>0.000818</td>\n",
       "    </tr>\n",
       "    <tr>\n",
       "      <th>58</th>\n",
       "      <td>21</td>\n",
       "      <td>6966.667257</td>\n",
       "      <td>1633.708902</td>\n",
       "      <td>0.000262</td>\n",
       "    </tr>\n",
       "  </tbody>\n",
       "</table>\n",
       "</div>"
      ],
      "text/plain": [
       "     freq    p_average      p_range   diff_int\n",
       "43  77167   222.585221    51.662412  30.485505\n",
       "44  48398   279.950339    65.039123  15.187602\n",
       "45  29849   352.478114    81.879405   7.440319\n",
       "46  18075   443.637837   103.080063   3.578822\n",
       "47  10768   558.338033   129.770111   1.693545\n",
       "48   6402   702.387415   163.370890   0.799793\n",
       "49   3939   884.589496   205.671765   0.390884\n",
       "50   2267  1110.268403   258.925412   0.178695\n",
       "51   1366  1398.370317   325.967781   0.085529\n",
       "52    756  1761.681074   410.369123   0.037600\n",
       "53    444  2222.836551   516.624117   0.017541\n",
       "54    232  2805.921490   650.391229   0.007280\n",
       "55    156  3516.693581   818.794045   0.003889\n",
       "56     92  4469.627784  1030.800631   0.001822\n",
       "57     52  5509.966456  1297.701109   0.000818\n",
       "58     21  6966.667257  1633.708902   0.000262"
      ]
     },
     "execution_count": 89,
     "metadata": {},
     "output_type": "execute_result"
    }
   ],
   "source": [
    "c['diff_int']=c['freq']/(c['p_range']*(2.56*10**4*4*numpy.pi*(1-numpy.cos(numpy.deg2rad(1)))))\n",
    "c['p_average']=10**c['p_average']\n",
    "c"
   ]
  },
  {
   "cell_type": "code",
   "execution_count": 52,
   "metadata": {},
   "outputs": [
    {
     "data": {
      "text/plain": [
       "1009535.9170831874"
      ]
     },
     "execution_count": 52,
     "metadata": {},
     "output_type": "execute_result"
    }
   ],
   "source": [
    "numpy.sum(c['diff_int'])*10**4"
   ]
  },
  {
   "cell_type": "code",
   "execution_count": 15,
   "metadata": {},
   "outputs": [
    {
     "data": {
      "text/plain": [
       "0.00019451931716082659"
      ]
     },
     "execution_count": 15,
     "metadata": {},
     "output_type": "execute_result"
    }
   ],
   "source": [
    "numpy.sum(c['freq'])/(0.03*10**4*7.42*10**3)"
   ]
  },
  {
   "cell_type": "code",
   "execution_count": 84,
   "metadata": {},
   "outputs": [
    {
     "data": {
      "image/png": "[encoded data removed]",
      "text/plain": [
       "<Figure size 640x480 with 1 Axes>"
      ]
     },
     "metadata": {},
     "output_type": "display_data"
    }
   ],
   "source": [
    "plt.scatter(c['p_average'],c['diff_int']*(c['p_average'])**3, marker='x')\n",
    "plt.yscale('log')\n",
    "plt.xscale('log')\n",
    "plt.show()"
   ]
  },
  {
   "cell_type": "code",
   "execution_count": 25,
   "metadata": {},
   "outputs": [
    {
     "data": {
      "text/plain": [
       "28.644980815379714"
      ]
     },
     "execution_count": 25,
     "metadata": {},
     "output_type": "execute_result"
    }
   ],
   "source": [
    "1/(2*numpy.tan(numpy.deg2rad(1)))"
   ]
  },
  {
   "cell_type": "code",
   "execution_count": 94,
   "metadata": {},
   "outputs": [
    {
     "data": {
      "text/html": [
       "<div>\n",
       "<style scoped>\n",
       "    .dataframe tbody tr th:only-of-type {\n",
       "        vertical-align: middle;\n",
       "    }\n",
       "\n",
       "    .dataframe tbody tr th {\n",
       "        vertical-align: top;\n",
       "    }\n",
       "\n",
       "    .dataframe thead th {\n",
       "        text-align: right;\n",
       "    }\n",
       "</style>\n",
       "<table border=\"1\" class=\"dataframe\">\n",
       "  <thead>\n",
       "    <tr style=\"text-align: right;\">\n",
       "      <th></th>\n",
       "      <th>freq</th>\n",
       "      <th>zenith angle</th>\n",
       "    </tr>\n",
       "  </thead>\n",
       "  <tbody>\n",
       "    <tr>\n",
       "      <th>0</th>\n",
       "      <td>705</td>\n",
       "      <td>2.5</td>\n",
       "    </tr>\n",
       "    <tr>\n",
       "      <th>1</th>\n",
       "      <td>758</td>\n",
       "      <td>7.5</td>\n",
       "    </tr>\n",
       "    <tr>\n",
       "      <th>2</th>\n",
       "      <td>690</td>\n",
       "      <td>12.5</td>\n",
       "    </tr>\n",
       "    <tr>\n",
       "      <th>3</th>\n",
       "      <td>773</td>\n",
       "      <td>17.5</td>\n",
       "    </tr>\n",
       "    <tr>\n",
       "      <th>4</th>\n",
       "      <td>723</td>\n",
       "      <td>22.5</td>\n",
       "    </tr>\n",
       "    <tr>\n",
       "      <th>5</th>\n",
       "      <td>774</td>\n",
       "      <td>27.5</td>\n",
       "    </tr>\n",
       "    <tr>\n",
       "      <th>6</th>\n",
       "      <td>841</td>\n",
       "      <td>32.5</td>\n",
       "    </tr>\n",
       "    <tr>\n",
       "      <th>7</th>\n",
       "      <td>876</td>\n",
       "      <td>37.5</td>\n",
       "    </tr>\n",
       "    <tr>\n",
       "      <th>8</th>\n",
       "      <td>925</td>\n",
       "      <td>42.5</td>\n",
       "    </tr>\n",
       "    <tr>\n",
       "      <th>9</th>\n",
       "      <td>1034</td>\n",
       "      <td>47.5</td>\n",
       "    </tr>\n",
       "    <tr>\n",
       "      <th>10</th>\n",
       "      <td>1061</td>\n",
       "      <td>52.5</td>\n",
       "    </tr>\n",
       "    <tr>\n",
       "      <th>11</th>\n",
       "      <td>1158</td>\n",
       "      <td>57.5</td>\n",
       "    </tr>\n",
       "    <tr>\n",
       "      <th>12</th>\n",
       "      <td>1265</td>\n",
       "      <td>62.5</td>\n",
       "    </tr>\n",
       "    <tr>\n",
       "      <th>13</th>\n",
       "      <td>1591</td>\n",
       "      <td>67.5</td>\n",
       "    </tr>\n",
       "    <tr>\n",
       "      <th>14</th>\n",
       "      <td>1670</td>\n",
       "      <td>72.5</td>\n",
       "    </tr>\n",
       "    <tr>\n",
       "      <th>15</th>\n",
       "      <td>2016</td>\n",
       "      <td>77.5</td>\n",
       "    </tr>\n",
       "    <tr>\n",
       "      <th>16</th>\n",
       "      <td>2642</td>\n",
       "      <td>82.5</td>\n",
       "    </tr>\n",
       "  </tbody>\n",
       "</table>\n",
       "</div>"
      ],
      "text/plain": [
       "    freq  zenith angle\n",
       "0    705           2.5\n",
       "1    758           7.5\n",
       "2    690          12.5\n",
       "3    773          17.5\n",
       "4    723          22.5\n",
       "5    774          27.5\n",
       "6    841          32.5\n",
       "7    876          37.5\n",
       "8    925          42.5\n",
       "9   1034          47.5\n",
       "10  1061          52.5\n",
       "11  1158          57.5\n",
       "12  1265          62.5\n",
       "13  1591          67.5\n",
       "14  1670          72.5\n",
       "15  2016          77.5\n",
       "16  2642          82.5"
      ]
     },
     "execution_count": 94,
     "metadata": {},
     "output_type": "execute_result"
    }
   ],
   "source": [
    "with open('gen_data_angle.npy','wb') as f:\n",
    "    numpy.save(f,c)\n",
    "c"
   ]
  },
  {
   "cell_type": "code",
   "execution_count": 48,
   "metadata": {},
   "outputs": [],
   "source": [
    "def exp(x, params):\n",
    "    a=params\n",
    "    return a/(numpy.cos(numpy.deg2rad(x)))\n",
    "def res(params,x,y):\n",
    "    return y-exp(x,params)\n",
    "def fit(data):\n",
    "    popt=optimize.leastsq(res,x0=numpy.array([100]),args=(data[0],data[1]))\n",
    "    print(popt)\n",
    "    return(popt[0])"
   ]
  },
  {
   "cell_type": "code",
   "execution_count": 15,
   "metadata": {},
   "outputs": [
    {
     "ename": "NameError",
     "evalue": "name 'fit' is not defined",
     "output_type": "error",
     "traceback": [
      "\u001b[0;31m---------------------------------------------------------------------------\u001b[0m",
      "\u001b[0;31mNameError\u001b[0m                                 Traceback (most recent call last)",
      "Cell \u001b[0;32mIn[15], line 9\u001b[0m\n\u001b[1;32m      2\u001b[0m plt\u001b[39m.\u001b[39mscatter(c[\u001b[39m'\u001b[39m\u001b[39mzenith angle\u001b[39m\u001b[39m'\u001b[39m],c[\u001b[39m'\u001b[39m\u001b[39mfreq\u001b[39m\u001b[39m'\u001b[39m], marker\u001b[39m=\u001b[39m\u001b[39m'\u001b[39m\u001b[39mx\u001b[39m\u001b[39m'\u001b[39m, label\u001b[39m=\u001b[39m\u001b[39m'\u001b[39m\u001b[39mgenerator data\u001b[39m\u001b[39m'\u001b[39m, color\u001b[39m=\u001b[39m\u001b[39m'\u001b[39m\u001b[39mblack\u001b[39m\u001b[39m'\u001b[39m)\n\u001b[1;32m      3\u001b[0m \u001b[39m# p=fit([c['zenith angle'],c['freq']])\u001b[39;00m\n\u001b[1;32m      4\u001b[0m \u001b[39m# p1=p[0]\u001b[39;00m\n\u001b[1;32m      5\u001b[0m \u001b[39m# p2=p[1]\u001b[39;00m\n\u001b[1;32m      6\u001b[0m \u001b[39m# y=p1*numpy.cos(numpy.deg2rad(x))**p2\u001b[39;00m\n\u001b[1;32m      7\u001b[0m \u001b[39m# plt.plot(x, y, color='m', label='cos^2.19')\u001b[39;00m\n\u001b[1;32m      8\u001b[0m \u001b[39m# plt.plot(x,p1*numpy.cos(numpy.deg2rad(x))**2, label='cos^2', color='r')\u001b[39;00m\n\u001b[0;32m----> 9\u001b[0m p\u001b[39m=\u001b[39mfit([c[\u001b[39m'\u001b[39m\u001b[39mzenith angle\u001b[39m\u001b[39m'\u001b[39m],c[\u001b[39m'\u001b[39m\u001b[39mfreq\u001b[39m\u001b[39m'\u001b[39m]])\n\u001b[1;32m     10\u001b[0m plt\u001b[39m.\u001b[39mplot(x,\u001b[39m500\u001b[39m\u001b[39m/\u001b[39m(numpy\u001b[39m.\u001b[39mcos(numpy\u001b[39m.\u001b[39mdeg2rad(x))), label\u001b[39m=\u001b[39m\u001b[39m'\u001b[39m\u001b[39msec\u001b[39m\u001b[39m'\u001b[39m)\n\u001b[1;32m     11\u001b[0m \u001b[39m#plt.plot(x, 1/numpy.cos(numpy.deg2rad(x)))\u001b[39;00m\n",
      "\u001b[0;31mNameError\u001b[0m: name 'fit' is not defined"
     ]
    },
    {
     "data": {
      "image/png": "[encoded data removed]",
      "text/plain": [
       "<Figure size 640x480 with 1 Axes>"
      ]
     },
     "metadata": {},
     "output_type": "display_data"
    }
   ],
   "source": [
    "x=numpy.linspace(0,80,10000)\n",
    "plt.scatter(c['zenith angle'],c['freq'], marker='x', label='generator data', color='black')\n",
    "# p=fit([c['zenith angle'],c['freq']])\n",
    "# p1=p[0]\n",
    "# p2=p[1]\n",
    "# y=p1*numpy.cos(numpy.deg2rad(x))**p2\n",
    "# plt.plot(x, y, color='m', label='cos^2.19')\n",
    "# plt.plot(x,p1*numpy.cos(numpy.deg2rad(x))**2, label='cos^2', color='r')\n",
    "p=fit([c['zenith angle'],c['freq']])\n",
    "plt.plot(x,500/(numpy.cos(numpy.deg2rad(x))), label='sec')\n",
    "#plt.plot(x, 1/numpy.cos(numpy.deg2rad(x)))\n",
    "plt.legend()"
   ]
  },
  {
   "cell_type": "code",
   "execution_count": 55,
   "metadata": {},
   "outputs": [
    {
     "data": {
      "text/plain": [
       "0.005347106226905041"
      ]
     },
     "execution_count": 55,
     "metadata": {},
     "output_type": "execute_result"
    }
   ],
   "source": [
    "min([a[i][0] for i in range(len(a))])"
   ]
  },
  {
   "cell_type": "code",
   "execution_count": 45,
   "metadata": {},
   "outputs": [
    {
     "data": {
      "text/plain": [
       "20813.090457043243"
      ]
     },
     "execution_count": 45,
     "metadata": {},
     "output_type": "execute_result"
    }
   ],
   "source": [
    "p[0]"
   ]
  },
  {
   "cell_type": "code",
   "execution_count": null,
   "metadata": {},
   "outputs": [],
   "source": []
  }
 ],
 "metadata": {
  "kernelspec": {
   "display_name": "Python 3",
   "language": "python",
   "name": "python3"
  },
  "language_info": {
   "codemirror_mode": {
    "name": "ipython",
    "version": 3
   },
   "file_extension": ".py",
   "mimetype": "text/x-python",
   "name": "python",
   "nbconvert_exporter": "python",
   "pygments_lexer": "ipython3",
   "version": "3.8.16"
  },
  "orig_nbformat": 4
 },
 "nbformat": 4,
 "nbformat_minor": 2
}
