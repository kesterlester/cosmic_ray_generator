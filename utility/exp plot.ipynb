{
 "cells": [
  {
   "cell_type": "code",
   "execution_count": 1,
   "metadata": {},
   "outputs": [],
   "source": [
    "import numpy\n",
    "import matplotlib.pyplot as plt\n",
    "from scipy import optimize\n",
    "import pandas\n",
    "import sys\n",
    "sys.path.insert(0,'/home/leo/Documents/cosmic_ray_generator/')\n",
    "import functions"
   ]
  },
  {
   "cell_type": "code",
   "execution_count": 2,
   "metadata": {},
   "outputs": [],
   "source": [
    "def inp():\n",
    "    a=[[],[]]\n",
    "    p=input('p')\n",
    "    I=input('intensity')\n",
    "    for i in p.split(' '):\n",
    "        a[0].append(float(i))\n",
    "    for i in I.split(' '):\n",
    "        a[1].append(float(i))\n",
    "    return a"
   ]
  },
  {
   "cell_type": "code",
   "execution_count": 3,
   "metadata": {},
   "outputs": [],
   "source": [
    "def plot(data):\n",
    "    x=numpy.array(data[0])\n",
    "    y=numpy.array(data[1])\n",
    "    return [x,y]"
   ]
  },
  {
   "cell_type": "code",
   "execution_count": 4,
   "metadata": {},
   "outputs": [],
   "source": [
    "BESS2_minus=inp()\n",
    "BESS=inp()\n",
    "BESS_plus=inp()\n",
    "BESS2=inp()\n",
    "tsuji=inp()"
   ]
  },
  {
   "cell_type": "code",
   "execution_count": 4,
   "metadata": {},
   "outputs": [],
   "source": [
    "def best_fit(x,a):\n",
    "    return a*functions.composite(x)\n",
    "f=numpy.vectorize(best_fit)"
   ]
  },
  {
   "cell_type": "code",
   "execution_count": 5,
   "metadata": {},
   "outputs": [],
   "source": [
    "def res(a,x,y):\n",
    "    return y-f(x,a)"
   ]
  },
  {
   "cell_type": "code",
   "execution_count": 6,
   "metadata": {},
   "outputs": [],
   "source": [
    "def fit(data):\n",
    "    popt=optimize.leastsq(res,[1.],args=(data[0],data[1]))\n",
    "    print(popt)\n",
    "    return(popt[0])"
   ]
  },
  {
   "cell_type": "code",
   "execution_count": 7,
   "metadata": {},
   "outputs": [],
   "source": [
    "x=numpy.linspace(0.5,250,10000)\n",
    "y=f(x,1)"
   ]
  },
  {
   "cell_type": "code",
   "execution_count": 8,
   "metadata": {},
   "outputs": [],
   "source": [
    "with open(\"gen_data.npy\",'rb') as file:\n",
    "    c=numpy.load(file)\n",
    "generator_data=pandas.DataFrame(c,columns=['freq','p_average','p_range','diff_int'])\n",
    "for i in range(len(generator_data['p_average'])):\n",
    "    if numpy.isnan(generator_data['p_average'][i]):\n",
    "        generator_data.drop([i])\n",
    "generator_data=generator_data.drop([i for i in range(len(generator_data['p_average'])) if numpy.isnan(generator_data['p_average'][i])])\n",
    "generator_data['p_average']=10**generator_data['p_average']"
   ]
  },
  {
   "cell_type": "code",
   "execution_count": 9,
   "metadata": {},
   "outputs": [],
   "source": [
    "with open(\"gen_data_vert.npy\",'rb') as file:\n",
    "    d=numpy.load(file)\n",
    "generator_data_vert=pandas.DataFrame(d,columns=['freq','p_average','p_range','diff_int'])\n",
    "for i in range(len(generator_data_vert['p_average'])):\n",
    "    if numpy.isnan(generator_data_vert['p_average'][i]):\n",
    "        generator_data_vert.drop([i])\n",
    "generator_data_vert=generator_data_vert.drop([i for i in range(len(generator_data_vert['p_average'])) if numpy.isnan(generator_data_vert['p_average'][i])])\n",
    "generator_data_vert['p_average']=10**generator_data_vert['p_average']"
   ]
  },
  {
   "cell_type": "code",
   "execution_count": 10,
   "metadata": {},
   "outputs": [
    {
     "data": {
      "text/html": [
       "<div>\n",
       "<style scoped>\n",
       "    .dataframe tbody tr th:only-of-type {\n",
       "        vertical-align: middle;\n",
       "    }\n",
       "\n",
       "    .dataframe tbody tr th {\n",
       "        vertical-align: top;\n",
       "    }\n",
       "\n",
       "    .dataframe thead th {\n",
       "        text-align: right;\n",
       "    }\n",
       "</style>\n",
       "<table border=\"1\" class=\"dataframe\">\n",
       "  <thead>\n",
       "    <tr style=\"text-align: right;\">\n",
       "      <th></th>\n",
       "      <th>freq</th>\n",
       "      <th>p_average</th>\n",
       "      <th>p_range</th>\n",
       "      <th>diff_int</th>\n",
       "    </tr>\n",
       "  </thead>\n",
       "  <tbody>\n",
       "    <tr>\n",
       "      <th>0</th>\n",
       "      <td>13470.0</td>\n",
       "      <td>1.127000</td>\n",
       "      <td>0.258925</td>\n",
       "      <td>52022.703784</td>\n",
       "    </tr>\n",
       "    <tr>\n",
       "      <th>1</th>\n",
       "      <td>14721.0</td>\n",
       "      <td>1.415223</td>\n",
       "      <td>0.325968</td>\n",
       "      <td>45160.905074</td>\n",
       "    </tr>\n",
       "    <tr>\n",
       "      <th>2</th>\n",
       "      <td>15291.0</td>\n",
       "      <td>1.783397</td>\n",
       "      <td>0.410369</td>\n",
       "      <td>37261.575400</td>\n",
       "    </tr>\n",
       "    <tr>\n",
       "      <th>3</th>\n",
       "      <td>15072.0</td>\n",
       "      <td>2.243838</td>\n",
       "      <td>0.516624</td>\n",
       "      <td>29174.015532</td>\n",
       "    </tr>\n",
       "    <tr>\n",
       "      <th>4</th>\n",
       "      <td>14421.0</td>\n",
       "      <td>2.820052</td>\n",
       "      <td>0.650391</td>\n",
       "      <td>22172.808249</td>\n",
       "    </tr>\n",
       "    <tr>\n",
       "      <th>5</th>\n",
       "      <td>13193.0</td>\n",
       "      <td>3.548853</td>\n",
       "      <td>0.818794</td>\n",
       "      <td>16112.720988</td>\n",
       "    </tr>\n",
       "    <tr>\n",
       "      <th>6</th>\n",
       "      <td>11985.0</td>\n",
       "      <td>4.460190</td>\n",
       "      <td>1.030801</td>\n",
       "      <td>11626.884620</td>\n",
       "    </tr>\n",
       "    <tr>\n",
       "      <th>7</th>\n",
       "      <td>10487.0</td>\n",
       "      <td>5.614111</td>\n",
       "      <td>1.297701</td>\n",
       "      <td>8081.213718</td>\n",
       "    </tr>\n",
       "    <tr>\n",
       "      <th>8</th>\n",
       "      <td>8754.0</td>\n",
       "      <td>7.072290</td>\n",
       "      <td>1.633709</td>\n",
       "      <td>5358.359734</td>\n",
       "    </tr>\n",
       "    <tr>\n",
       "      <th>9</th>\n",
       "      <td>7058.0</td>\n",
       "      <td>8.900514</td>\n",
       "      <td>2.056718</td>\n",
       "      <td>3431.681539</td>\n",
       "    </tr>\n",
       "    <tr>\n",
       "      <th>10</th>\n",
       "      <td>5673.0</td>\n",
       "      <td>11.177868</td>\n",
       "      <td>2.589254</td>\n",
       "      <td>2190.978460</td>\n",
       "    </tr>\n",
       "    <tr>\n",
       "      <th>11</th>\n",
       "      <td>4343.0</td>\n",
       "      <td>14.087139</td>\n",
       "      <td>3.259678</td>\n",
       "      <td>1332.340267</td>\n",
       "    </tr>\n",
       "    <tr>\n",
       "      <th>12</th>\n",
       "      <td>3252.0</td>\n",
       "      <td>17.732976</td>\n",
       "      <td>4.103691</td>\n",
       "      <td>792.457283</td>\n",
       "    </tr>\n",
       "    <tr>\n",
       "      <th>13</th>\n",
       "      <td>2337.0</td>\n",
       "      <td>22.284633</td>\n",
       "      <td>5.166241</td>\n",
       "      <td>452.359835</td>\n",
       "    </tr>\n",
       "    <tr>\n",
       "      <th>14</th>\n",
       "      <td>1683.0</td>\n",
       "      <td>28.058615</td>\n",
       "      <td>6.503912</td>\n",
       "      <td>258.767327</td>\n",
       "    </tr>\n",
       "    <tr>\n",
       "      <th>15</th>\n",
       "      <td>1182.0</td>\n",
       "      <td>35.335953</td>\n",
       "      <td>8.187940</td>\n",
       "      <td>144.358646</td>\n",
       "    </tr>\n",
       "    <tr>\n",
       "      <th>16</th>\n",
       "      <td>801.0</td>\n",
       "      <td>44.396195</td>\n",
       "      <td>10.308006</td>\n",
       "      <td>77.706588</td>\n",
       "    </tr>\n",
       "    <tr>\n",
       "      <th>17</th>\n",
       "      <td>543.0</td>\n",
       "      <td>55.780081</td>\n",
       "      <td>12.977011</td>\n",
       "      <td>41.843225</td>\n",
       "    </tr>\n",
       "    <tr>\n",
       "      <th>18</th>\n",
       "      <td>362.0</td>\n",
       "      <td>70.514575</td>\n",
       "      <td>16.337089</td>\n",
       "      <td>22.158170</td>\n",
       "    </tr>\n",
       "    <tr>\n",
       "      <th>19</th>\n",
       "      <td>197.0</td>\n",
       "      <td>89.223641</td>\n",
       "      <td>20.567177</td>\n",
       "      <td>9.578369</td>\n",
       "    </tr>\n",
       "    <tr>\n",
       "      <th>20</th>\n",
       "      <td>148.0</td>\n",
       "      <td>112.553779</td>\n",
       "      <td>25.892541</td>\n",
       "      <td>5.715932</td>\n",
       "    </tr>\n",
       "    <tr>\n",
       "      <th>21</th>\n",
       "      <td>104.0</td>\n",
       "      <td>140.451631</td>\n",
       "      <td>32.596778</td>\n",
       "      <td>3.190499</td>\n",
       "    </tr>\n",
       "    <tr>\n",
       "      <th>22</th>\n",
       "      <td>44.0</td>\n",
       "      <td>177.620351</td>\n",
       "      <td>41.036912</td>\n",
       "      <td>1.072205</td>\n",
       "    </tr>\n",
       "    <tr>\n",
       "      <th>23</th>\n",
       "      <td>36.0</td>\n",
       "      <td>224.399627</td>\n",
       "      <td>51.662412</td>\n",
       "      <td>0.696832</td>\n",
       "    </tr>\n",
       "    <tr>\n",
       "      <th>24</th>\n",
       "      <td>19.0</td>\n",
       "      <td>272.606857</td>\n",
       "      <td>65.039123</td>\n",
       "      <td>0.292132</td>\n",
       "    </tr>\n",
       "    <tr>\n",
       "      <th>25</th>\n",
       "      <td>12.0</td>\n",
       "      <td>352.485490</td>\n",
       "      <td>81.879405</td>\n",
       "      <td>0.146557</td>\n",
       "    </tr>\n",
       "    <tr>\n",
       "      <th>26</th>\n",
       "      <td>6.0</td>\n",
       "      <td>428.290361</td>\n",
       "      <td>103.080063</td>\n",
       "      <td>0.058207</td>\n",
       "    </tr>\n",
       "  </tbody>\n",
       "</table>\n",
       "</div>"
      ],
      "text/plain": [
       "       freq   p_average     p_range      diff_int\n",
       "0   13470.0    1.127000    0.258925  52022.703784\n",
       "1   14721.0    1.415223    0.325968  45160.905074\n",
       "2   15291.0    1.783397    0.410369  37261.575400\n",
       "3   15072.0    2.243838    0.516624  29174.015532\n",
       "4   14421.0    2.820052    0.650391  22172.808249\n",
       "5   13193.0    3.548853    0.818794  16112.720988\n",
       "6   11985.0    4.460190    1.030801  11626.884620\n",
       "7   10487.0    5.614111    1.297701   8081.213718\n",
       "8    8754.0    7.072290    1.633709   5358.359734\n",
       "9    7058.0    8.900514    2.056718   3431.681539\n",
       "10   5673.0   11.177868    2.589254   2190.978460\n",
       "11   4343.0   14.087139    3.259678   1332.340267\n",
       "12   3252.0   17.732976    4.103691    792.457283\n",
       "13   2337.0   22.284633    5.166241    452.359835\n",
       "14   1683.0   28.058615    6.503912    258.767327\n",
       "15   1182.0   35.335953    8.187940    144.358646\n",
       "16    801.0   44.396195   10.308006     77.706588\n",
       "17    543.0   55.780081   12.977011     41.843225\n",
       "18    362.0   70.514575   16.337089     22.158170\n",
       "19    197.0   89.223641   20.567177      9.578369\n",
       "20    148.0  112.553779   25.892541      5.715932\n",
       "21    104.0  140.451631   32.596778      3.190499\n",
       "22     44.0  177.620351   41.036912      1.072205\n",
       "23     36.0  224.399627   51.662412      0.696832\n",
       "24     19.0  272.606857   65.039123      0.292132\n",
       "25     12.0  352.485490   81.879405      0.146557\n",
       "26      6.0  428.290361  103.080063      0.058207"
      ]
     },
     "execution_count": 10,
     "metadata": {},
     "output_type": "execute_result"
    }
   ],
   "source": [
    "generator_data"
   ]
  },
  {
   "cell_type": "code",
   "execution_count": 11,
   "metadata": {},
   "outputs": [
    {
     "name": "stdout",
     "output_type": "stream",
     "text": [
      "(array([2811.00333475]), 3)\n",
      "(array([2.85919119]), 3)\n"
     ]
    },
    {
     "data": {
      "image/png": "[encoded data removed]",
      "text/plain": [
       "<Figure size 640x480 with 1 Axes>"
      ]
     },
     "metadata": {},
     "output_type": "display_data"
    }
   ],
   "source": [
    "'''BESSm=plot(BESS)\n",
    "plt.scatter(BESSm[0],(1/fit(BESS))*BESSm[1]*BESSm[0]**3,label='bess_minus',marker='x')'''\n",
    "plt.plot(x,y*x**3,label='best fit',color='m')\n",
    "'''BESSp=plot(BESS_plus)\n",
    "plt.scatter(BESSp[0],(1/fit(BESS_plus))*BESSp[1]*BESSm[0]**3,label='bess_plus',marker='x')\n",
    "tsujip=plot(tsuji)\n",
    "plt.scatter(tsujip[0],(1/fit(tsuji))*tsujip[1]*tsujip[0]**3,label='tsuji',marker='x')\n",
    "BESS2p=plot(BESS2)\n",
    "plt.scatter(BESS2p[0],(1/fit(BESS2p))*BESS2p[1]*BESS2p[0]**3,label='BESS2_plus',marker='x')\n",
    "BESS2m=plot(BESS2_minus)\n",
    "plt.scatter(BESS2m[0],(1/fit(BESS2m))*BESS2m[1]*BESS2m[0]**3,label='BESS2_minus',marker='x')'''\n",
    "gen=[numpy.array(generator_data['p_average']),numpy.array(generator_data['diff_int'])]\n",
    "plt.scatter(gen[0],(1/fit([generator_data['p_average'],generator_data['diff_int']]))*gen[1]*gen[0]**3,label='generator data all angles',marker='x')\n",
    "gen_vert=[numpy.array(generator_data_vert['p_average']),numpy.array(generator_data_vert['diff_int'])]\n",
    "plt.scatter(gen_vert[0],(1/fit([generator_data_vert['p_average'],generator_data_vert['diff_int']]))*gen_vert[1]*gen_vert[0]**3,label='generator data vertical',marker='x')\n",
    "plt.legend()\n",
    "plt.xscale('log')\n",
    "plt.yscale('log')\n",
    "plt.show()"
   ]
  },
  {
   "cell_type": "code",
   "execution_count": 116,
   "metadata": {},
   "outputs": [
    {
     "data": {
      "text/plain": [
       "<matplotlib.legend.Legend at 0x7efb0d8a15e0>"
      ]
     },
     "execution_count": 116,
     "metadata": {},
     "output_type": "execute_result"
    },
    {
     "data": {
      "image/png": "[encoded data removed]",
      "text/plain": [
       "<Figure size 640x480 with 1 Axes>"
      ]
     },
     "metadata": {},
     "output_type": "display_data"
    }
   ],
   "source": [
    "xt=numpy.linspace(0.5,1000000, 1000000)\n",
    "yt=functions.composite(E_mu=xt)\n",
    "yt2=functions.best_fit(E_mu=xt)\n",
    "yt3=functions.theory_supressed(E_mu=xt)\n",
    "plt.plot(xt,yt*xt**3, label='composite', color='m')\n",
    "plt.plot(xt,yt2*xt**3, label='best fit')\n",
    "plt.plot(xt,yt3*xt**3, label='theory')\n",
    "plt.xscale('log')\n",
    "plt.yscale('log')\n",
    "plt.legend()"
   ]
  },
  {
   "cell_type": "code",
   "execution_count": null,
   "metadata": {},
   "outputs": [],
   "source": []
  }
 ],
 "metadata": {
  "kernelspec": {
   "display_name": "base",
   "language": "python",
   "name": "python3"
  },
  "language_info": {
   "codemirror_mode": {
    "name": "ipython",
    "version": 3
   },
   "file_extension": ".py",
   "mimetype": "text/x-python",
   "name": "python",
   "nbconvert_exporter": "python",
   "pygments_lexer": "ipython3",
   "version": "3.8.16"
  },
  "orig_nbformat": 4
 },
 "nbformat": 4,
 "nbformat_minor": 2
}
