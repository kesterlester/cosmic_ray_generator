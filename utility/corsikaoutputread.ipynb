{
 "cells": [
  {
   "cell_type": "code",
   "execution_count": 8,
   "metadata": {},
   "outputs": [],
   "source": [
    "import pandas\n",
    "import numpy \n",
    "import matplotlib.pyplot as plt"
   ]
  },
  {
   "cell_type": "code",
   "execution_count": 9,
   "metadata": {},
   "outputs": [],
   "source": [
    "def convert(a):\n",
    "    b=[]\n",
    "    for i in a:\n",
    "        c=i.split('E')\n",
    "        b.append(float(c[0])*10**float(c[1]))\n",
    "    return b"
   ]
  },
  {
   "cell_type": "code",
   "execution_count": 10,
   "metadata": {},
   "outputs": [],
   "source": [
    "a=[]"
   ]
  },
  {
   "cell_type": "code",
   "execution_count": 11,
   "metadata": {},
   "outputs": [],
   "source": [
    "with open('../CorsikaOutReadable/dpmjet_55','r') as f:\n",
    "    for line in f:\n",
    "        a.append(line)"
   ]
  },
  {
   "cell_type": "code",
   "execution_count": 12,
   "metadata": {},
   "outputs": [],
   "source": [
    "b=[]\n",
    "for i in a:\n",
    "    if i[2]=='6' and i[11:13]=='03':\n",
    "        b.append(i)\n"
   ]
  },
  {
   "cell_type": "code",
   "execution_count": 13,
   "metadata": {},
   "outputs": [],
   "source": [
    "c=pandas.DataFrame([convert(b[i].split()) for i in range(len(b))],columns=['id','px','py','pz','x','y','t'])"
   ]
  },
  {
   "cell_type": "code",
   "execution_count": 14,
   "metadata": {},
   "outputs": [],
   "source": [
    "c['zenith angle']=numpy.sqrt(numpy.arctan((c['px']**2+c['py']**2)/c['pz']**2))"
   ]
  },
  {
   "cell_type": "code",
   "execution_count": 15,
   "metadata": {},
   "outputs": [
    {
     "data": {
      "text/html": [
       "<div>\n",
       "<style scoped>\n",
       "    .dataframe tbody tr th:only-of-type {\n",
       "        vertical-align: middle;\n",
       "    }\n",
       "\n",
       "    .dataframe tbody tr th {\n",
       "        vertical-align: top;\n",
       "    }\n",
       "\n",
       "    .dataframe thead th {\n",
       "        text-align: right;\n",
       "    }\n",
       "</style>\n",
       "<table border=\"1\" class=\"dataframe\">\n",
       "  <thead>\n",
       "    <tr style=\"text-align: right;\">\n",
       "      <th></th>\n",
       "      <th>id</th>\n",
       "      <th>px</th>\n",
       "      <th>py</th>\n",
       "      <th>pz</th>\n",
       "      <th>x</th>\n",
       "      <th>y</th>\n",
       "      <th>t</th>\n",
       "      <th>zenith angle</th>\n",
       "    </tr>\n",
       "  </thead>\n",
       "  <tbody>\n",
       "    <tr>\n",
       "      <th>0</th>\n",
       "      <td>6541.0</td>\n",
       "      <td>1.563730</td>\n",
       "      <td>3.315440</td>\n",
       "      <td>13.949300</td>\n",
       "      <td>-6633.01</td>\n",
       "      <td>39247.1</td>\n",
       "      <td>79730.5</td>\n",
       "      <td>0.262579</td>\n",
       "    </tr>\n",
       "    <tr>\n",
       "      <th>1</th>\n",
       "      <td>6521.0</td>\n",
       "      <td>1.505080</td>\n",
       "      <td>3.154020</td>\n",
       "      <td>14.865800</td>\n",
       "      <td>-34083.30</td>\n",
       "      <td>-28040.1</td>\n",
       "      <td>79164.6</td>\n",
       "      <td>0.234965</td>\n",
       "    </tr>\n",
       "    <tr>\n",
       "      <th>2</th>\n",
       "      <td>6531.0</td>\n",
       "      <td>0.151202</td>\n",
       "      <td>0.141242</td>\n",
       "      <td>0.789094</td>\n",
       "      <td>48120.80</td>\n",
       "      <td>-116917.0</td>\n",
       "      <td>79090.6</td>\n",
       "      <td>0.262005</td>\n",
       "    </tr>\n",
       "    <tr>\n",
       "      <th>3</th>\n",
       "      <td>6541.0</td>\n",
       "      <td>0.152443</td>\n",
       "      <td>0.234518</td>\n",
       "      <td>0.869510</td>\n",
       "      <td>45950.60</td>\n",
       "      <td>96452.2</td>\n",
       "      <td>80503.4</td>\n",
       "      <td>0.321116</td>\n",
       "    </tr>\n",
       "    <tr>\n",
       "      <th>4</th>\n",
       "      <td>6541.0</td>\n",
       "      <td>1.109590</td>\n",
       "      <td>1.202910</td>\n",
       "      <td>5.837020</td>\n",
       "      <td>106896.00</td>\n",
       "      <td>-18974.9</td>\n",
       "      <td>79851.3</td>\n",
       "      <td>0.280080</td>\n",
       "    </tr>\n",
       "    <tr>\n",
       "      <th>...</th>\n",
       "      <td>...</td>\n",
       "      <td>...</td>\n",
       "      <td>...</td>\n",
       "      <td>...</td>\n",
       "      <td>...</td>\n",
       "      <td>...</td>\n",
       "      <td>...</td>\n",
       "      <td>...</td>\n",
       "    </tr>\n",
       "    <tr>\n",
       "      <th>204834</th>\n",
       "      <td>6551.0</td>\n",
       "      <td>-4.019500</td>\n",
       "      <td>3.502800</td>\n",
       "      <td>5.348420</td>\n",
       "      <td>33773.90</td>\n",
       "      <td>14786.7</td>\n",
       "      <td>62640.1</td>\n",
       "      <td>0.884448</td>\n",
       "    </tr>\n",
       "    <tr>\n",
       "      <th>204835</th>\n",
       "      <td>6041.0</td>\n",
       "      <td>-15.377700</td>\n",
       "      <td>12.633500</td>\n",
       "      <td>19.191400</td>\n",
       "      <td>-25656.90</td>\n",
       "      <td>20946.9</td>\n",
       "      <td>63814.9</td>\n",
       "      <td>0.906483</td>\n",
       "    </tr>\n",
       "    <tr>\n",
       "      <th>204836</th>\n",
       "      <td>6561.0</td>\n",
       "      <td>-0.420075</td>\n",
       "      <td>0.437462</td>\n",
       "      <td>0.596630</td>\n",
       "      <td>57176.90</td>\n",
       "      <td>15376.8</td>\n",
       "      <td>62336.8</td>\n",
       "      <td>0.895430</td>\n",
       "    </tr>\n",
       "    <tr>\n",
       "      <th>204837</th>\n",
       "      <td>6541.0</td>\n",
       "      <td>-3.284950</td>\n",
       "      <td>2.589150</td>\n",
       "      <td>3.621300</td>\n",
       "      <td>-141926.00</td>\n",
       "      <td>45347.7</td>\n",
       "      <td>66444.0</td>\n",
       "      <td>0.963097</td>\n",
       "    </tr>\n",
       "    <tr>\n",
       "      <th>204838</th>\n",
       "      <td>6531.0</td>\n",
       "      <td>0.015322</td>\n",
       "      <td>0.467506</td>\n",
       "      <td>0.436140</td>\n",
       "      <td>170812.00</td>\n",
       "      <td>159057.0</td>\n",
       "      <td>89134.9</td>\n",
       "      <td>0.924747</td>\n",
       "    </tr>\n",
       "  </tbody>\n",
       "</table>\n",
       "<p>204839 rows × 8 columns</p>\n",
       "</div>"
      ],
      "text/plain": [
       "            id         px         py         pz          x         y        t  \\\n",
       "0       6541.0   1.563730   3.315440  13.949300   -6633.01   39247.1  79730.5   \n",
       "1       6521.0   1.505080   3.154020  14.865800  -34083.30  -28040.1  79164.6   \n",
       "2       6531.0   0.151202   0.141242   0.789094   48120.80 -116917.0  79090.6   \n",
       "3       6541.0   0.152443   0.234518   0.869510   45950.60   96452.2  80503.4   \n",
       "4       6541.0   1.109590   1.202910   5.837020  106896.00  -18974.9  79851.3   \n",
       "...        ...        ...        ...        ...        ...       ...      ...   \n",
       "204834  6551.0  -4.019500   3.502800   5.348420   33773.90   14786.7  62640.1   \n",
       "204835  6041.0 -15.377700  12.633500  19.191400  -25656.90   20946.9  63814.9   \n",
       "204836  6561.0  -0.420075   0.437462   0.596630   57176.90   15376.8  62336.8   \n",
       "204837  6541.0  -3.284950   2.589150   3.621300 -141926.00   45347.7  66444.0   \n",
       "204838  6531.0   0.015322   0.467506   0.436140  170812.00  159057.0  89134.9   \n",
       "\n",
       "        zenith angle  \n",
       "0           0.262579  \n",
       "1           0.234965  \n",
       "2           0.262005  \n",
       "3           0.321116  \n",
       "4           0.280080  \n",
       "...              ...  \n",
       "204834      0.884448  \n",
       "204835      0.906483  \n",
       "204836      0.895430  \n",
       "204837      0.963097  \n",
       "204838      0.924747  \n",
       "\n",
       "[204839 rows x 8 columns]"
      ]
     },
     "execution_count": 15,
     "metadata": {},
     "output_type": "execute_result"
    }
   ],
   "source": [
    "c"
   ]
  },
  {
   "cell_type": "code",
   "execution_count": 16,
   "metadata": {},
   "outputs": [
    {
     "name": "stderr",
     "output_type": "stream",
     "text": [
      "/home/someone/miniconda3/lib/python3.10/site-packages/pandas/core/arraylike.py:402: RuntimeWarning: divide by zero encountered in log10\n",
      "  result = getattr(ufunc, method)(*inputs, **kwargs)\n"
     ]
    },
    {
     "data": {
      "image/png": "[encoded data removed]",
      "text/plain": [
       "<Figure size 640x480 with 1 Axes>"
      ]
     },
     "metadata": {},
     "output_type": "display_data"
    }
   ],
   "source": [
    "plt.hist(numpy.log10(c['pz']),bins=[-0.5+i/100 for i in range(400)])\n",
    "plt.show()"
   ]
  },
  {
   "cell_type": "code",
   "execution_count": 17,
   "metadata": {},
   "outputs": [
    {
     "data": {
      "image/png": "[encoded data removed]",
      "text/plain": [
       "<Figure size 640x480 with 1 Axes>"
      ]
     },
     "metadata": {},
     "output_type": "display_data"
    }
   ],
   "source": [
    "plt.hist(c['zenith angle'],bins=[i/500 for i in range(1000)])\n",
    "plt.show()"
   ]
  },
  {
   "cell_type": "code",
   "execution_count": null,
   "metadata": {},
   "outputs": [],
   "source": []
  }
 ],
 "metadata": {
  "kernelspec": {
   "display_name": "reader",
   "language": "python",
   "name": "python3"
  },
  "language_info": {
   "codemirror_mode": {
    "name": "ipython",
    "version": 3
   },
   "file_extension": ".py",
   "mimetype": "text/x-python",
   "name": "python",
   "nbconvert_exporter": "python",
   "pygments_lexer": "ipython3",
   "version": "3.10.9"
  },
  "orig_nbformat": 4
 },
 "nbformat": 4,
 "nbformat_minor": 2
}
